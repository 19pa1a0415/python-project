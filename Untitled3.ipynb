{
  "nbformat": 4,
  "nbformat_minor": 0,
  "metadata": {
    "colab": {
      "name": "Untitled3.ipynb",
      "provenance": [],
      "authorship_tag": "ABX9TyOVM50l2K8WU0LfJvhVvTgH",
      "include_colab_link": true
    },
    "kernelspec": {
      "name": "python3",
      "display_name": "Python 3"
    }
  },
  "cells": [
    {
      "cell_type": "markdown",
      "metadata": {
        "id": "view-in-github",
        "colab_type": "text"
      },
      "source": [
        "<a href=\"https://colab.research.google.com/github/19pa1a0415/python-project/blob/master/Untitled3.ipynb\" target=\"_parent\"><img src=\"https://colab.research.google.com/assets/colab-badge.svg\" alt=\"Open In Colab\"/></a>"
      ]
    },
    {
      "cell_type": "code",
      "metadata": {
        "id": "GeWQV8zToaxp",
        "colab_type": "code",
        "colab": {}
      },
      "source": [
        "import numpy as np \n",
        "import pandas as pd\n",
        "from sklearn.model_selection import train_test_split\n",
        "from sklearn.linear_model import LinearRegression\n",
        "import matplotlib.pyplot as plt"
      ],
      "execution_count": 1,
      "outputs": []
    },
    {
      "cell_type": "code",
      "metadata": {
        "id": "NpsFCc9Lp50d",
        "colab_type": "code",
        "colab": {
          "base_uri": "https://localhost:8080/",
          "height": 34
        },
        "outputId": "7f83ea76-51d7-4e39-c7ee-f640b801998f"
      },
      "source": [
        "!ls"
      ],
      "execution_count": 2,
      "outputs": [
        {
          "output_type": "stream",
          "text": [
            "sample_data  top-chess-players.zip\n"
          ],
          "name": "stdout"
        }
      ]
    },
    {
      "cell_type": "code",
      "metadata": {
        "id": "cb_vMrJMp79Y",
        "colab_type": "code",
        "colab": {
          "base_uri": "https://localhost:8080/",
          "height": 252
        },
        "outputId": "7ed66c10-3c38-4380-a8f9-07a4175da1a6"
      },
      "source": [
        "data=pd.read_csv(\"top-chess-players.zip\")\n",
        "print(data)"
      ],
      "execution_count": 4,
      "outputs": [
        {
          "output_type": "stream",
          "text": [
            "      ranking_date  rank                    name  ... rating games  birth_year\n",
            "0         27-07-00     1         Kasparov, Garry  ...   2849    35        1963\n",
            "1         27-07-00     2       Kramnik, Vladimir  ...   2770    23        1975\n",
            "2         27-07-00     3      Anand, Viswanathan  ...   2762    23        1969\n",
            "3         27-07-00     4   Morozevich, Alexander  ...   2756    28        1977\n",
            "4         27-07-00     5          Adams, Michael  ...   2755    38        1971\n",
            "...            ...   ...                     ...  ...    ...   ...         ...\n",
            "11506     27-06-17    96          Safarli, Eltaj  ...   2656     9        1992\n",
            "11507     27-06-17    97          Shirov, Alexei  ...   2656     9        1972\n",
            "11508     27-06-17    98  Granda Zuniga, Julio E  ...   2656     4        1967\n",
            "11509     27-06-17    99             Robson, Ray  ...   2656     0        1994\n",
            "11510     27-06-17   100        Grandelius, Nils  ...   2655    10        1993\n",
            "\n",
            "[11511 rows x 8 columns]\n"
          ],
          "name": "stdout"
        }
      ]
    },
    {
      "cell_type": "code",
      "metadata": {
        "id": "Y91mLZJ-qCqH",
        "colab_type": "code",
        "colab": {
          "base_uri": "https://localhost:8080/",
          "height": 195
        },
        "outputId": "8059652b-2d79-4c35-bf09-acae9c7d82ab"
      },
      "source": [
        "data.head()"
      ],
      "execution_count": 5,
      "outputs": [
        {
          "output_type": "execute_result",
          "data": {
            "text/html": [
              "<div>\n",
              "<style scoped>\n",
              "    .dataframe tbody tr th:only-of-type {\n",
              "        vertical-align: middle;\n",
              "    }\n",
              "\n",
              "    .dataframe tbody tr th {\n",
              "        vertical-align: top;\n",
              "    }\n",
              "\n",
              "    .dataframe thead th {\n",
              "        text-align: right;\n",
              "    }\n",
              "</style>\n",
              "<table border=\"1\" class=\"dataframe\">\n",
              "  <thead>\n",
              "    <tr style=\"text-align: right;\">\n",
              "      <th></th>\n",
              "      <th>ranking_date</th>\n",
              "      <th>rank</th>\n",
              "      <th>name</th>\n",
              "      <th>title</th>\n",
              "      <th>country</th>\n",
              "      <th>rating</th>\n",
              "      <th>games</th>\n",
              "      <th>birth_year</th>\n",
              "    </tr>\n",
              "  </thead>\n",
              "  <tbody>\n",
              "    <tr>\n",
              "      <th>0</th>\n",
              "      <td>27-07-00</td>\n",
              "      <td>1</td>\n",
              "      <td>Kasparov, Garry</td>\n",
              "      <td>g</td>\n",
              "      <td>RUS</td>\n",
              "      <td>2849</td>\n",
              "      <td>35</td>\n",
              "      <td>1963</td>\n",
              "    </tr>\n",
              "    <tr>\n",
              "      <th>1</th>\n",
              "      <td>27-07-00</td>\n",
              "      <td>2</td>\n",
              "      <td>Kramnik, Vladimir</td>\n",
              "      <td>g</td>\n",
              "      <td>RUS</td>\n",
              "      <td>2770</td>\n",
              "      <td>23</td>\n",
              "      <td>1975</td>\n",
              "    </tr>\n",
              "    <tr>\n",
              "      <th>2</th>\n",
              "      <td>27-07-00</td>\n",
              "      <td>3</td>\n",
              "      <td>Anand, Viswanathan</td>\n",
              "      <td>g</td>\n",
              "      <td>IND</td>\n",
              "      <td>2762</td>\n",
              "      <td>23</td>\n",
              "      <td>1969</td>\n",
              "    </tr>\n",
              "    <tr>\n",
              "      <th>3</th>\n",
              "      <td>27-07-00</td>\n",
              "      <td>4</td>\n",
              "      <td>Morozevich, Alexander</td>\n",
              "      <td>g</td>\n",
              "      <td>RUS</td>\n",
              "      <td>2756</td>\n",
              "      <td>28</td>\n",
              "      <td>1977</td>\n",
              "    </tr>\n",
              "    <tr>\n",
              "      <th>4</th>\n",
              "      <td>27-07-00</td>\n",
              "      <td>5</td>\n",
              "      <td>Adams, Michael</td>\n",
              "      <td>g</td>\n",
              "      <td>ENG</td>\n",
              "      <td>2755</td>\n",
              "      <td>38</td>\n",
              "      <td>1971</td>\n",
              "    </tr>\n",
              "  </tbody>\n",
              "</table>\n",
              "</div>"
            ],
            "text/plain": [
              "  ranking_date  rank                   name  ... rating games  birth_year\n",
              "0     27-07-00     1        Kasparov, Garry  ...   2849    35        1963\n",
              "1     27-07-00     2      Kramnik, Vladimir  ...   2770    23        1975\n",
              "2     27-07-00     3     Anand, Viswanathan  ...   2762    23        1969\n",
              "3     27-07-00     4  Morozevich, Alexander  ...   2756    28        1977\n",
              "4     27-07-00     5         Adams, Michael  ...   2755    38        1971\n",
              "\n",
              "[5 rows x 8 columns]"
            ]
          },
          "metadata": {
            "tags": []
          },
          "execution_count": 5
        }
      ]
    },
    {
      "cell_type": "code",
      "metadata": {
        "id": "b-yZ4F7mqN2W",
        "colab_type": "code",
        "colab": {
          "base_uri": "https://localhost:8080/",
          "height": 195
        },
        "outputId": "b7811afb-f275-4000-ae33-acb2599002f8"
      },
      "source": [
        "data[[\"rank\",\"rating\"]].head()"
      ],
      "execution_count": 6,
      "outputs": [
        {
          "output_type": "execute_result",
          "data": {
            "text/html": [
              "<div>\n",
              "<style scoped>\n",
              "    .dataframe tbody tr th:only-of-type {\n",
              "        vertical-align: middle;\n",
              "    }\n",
              "\n",
              "    .dataframe tbody tr th {\n",
              "        vertical-align: top;\n",
              "    }\n",
              "\n",
              "    .dataframe thead th {\n",
              "        text-align: right;\n",
              "    }\n",
              "</style>\n",
              "<table border=\"1\" class=\"dataframe\">\n",
              "  <thead>\n",
              "    <tr style=\"text-align: right;\">\n",
              "      <th></th>\n",
              "      <th>rank</th>\n",
              "      <th>rating</th>\n",
              "    </tr>\n",
              "  </thead>\n",
              "  <tbody>\n",
              "    <tr>\n",
              "      <th>0</th>\n",
              "      <td>1</td>\n",
              "      <td>2849</td>\n",
              "    </tr>\n",
              "    <tr>\n",
              "      <th>1</th>\n",
              "      <td>2</td>\n",
              "      <td>2770</td>\n",
              "    </tr>\n",
              "    <tr>\n",
              "      <th>2</th>\n",
              "      <td>3</td>\n",
              "      <td>2762</td>\n",
              "    </tr>\n",
              "    <tr>\n",
              "      <th>3</th>\n",
              "      <td>4</td>\n",
              "      <td>2756</td>\n",
              "    </tr>\n",
              "    <tr>\n",
              "      <th>4</th>\n",
              "      <td>5</td>\n",
              "      <td>2755</td>\n",
              "    </tr>\n",
              "  </tbody>\n",
              "</table>\n",
              "</div>"
            ],
            "text/plain": [
              "   rank  rating\n",
              "0     1    2849\n",
              "1     2    2770\n",
              "2     3    2762\n",
              "3     4    2756\n",
              "4     5    2755"
            ]
          },
          "metadata": {
            "tags": []
          },
          "execution_count": 6
        }
      ]
    },
    {
      "cell_type": "code",
      "metadata": {
        "id": "y2LpIO2oqVnE",
        "colab_type": "code",
        "colab": {
          "base_uri": "https://localhost:8080/",
          "height": 195
        },
        "outputId": "56960cae-e16f-4c84-da5f-91d9f2be548d"
      },
      "source": [
        "data.tail()"
      ],
      "execution_count": 7,
      "outputs": [
        {
          "output_type": "execute_result",
          "data": {
            "text/html": [
              "<div>\n",
              "<style scoped>\n",
              "    .dataframe tbody tr th:only-of-type {\n",
              "        vertical-align: middle;\n",
              "    }\n",
              "\n",
              "    .dataframe tbody tr th {\n",
              "        vertical-align: top;\n",
              "    }\n",
              "\n",
              "    .dataframe thead th {\n",
              "        text-align: right;\n",
              "    }\n",
              "</style>\n",
              "<table border=\"1\" class=\"dataframe\">\n",
              "  <thead>\n",
              "    <tr style=\"text-align: right;\">\n",
              "      <th></th>\n",
              "      <th>ranking_date</th>\n",
              "      <th>rank</th>\n",
              "      <th>name</th>\n",
              "      <th>title</th>\n",
              "      <th>country</th>\n",
              "      <th>rating</th>\n",
              "      <th>games</th>\n",
              "      <th>birth_year</th>\n",
              "    </tr>\n",
              "  </thead>\n",
              "  <tbody>\n",
              "    <tr>\n",
              "      <th>11506</th>\n",
              "      <td>27-06-17</td>\n",
              "      <td>96</td>\n",
              "      <td>Safarli, Eltaj</td>\n",
              "      <td>g</td>\n",
              "      <td>AZE</td>\n",
              "      <td>2656</td>\n",
              "      <td>9</td>\n",
              "      <td>1992</td>\n",
              "    </tr>\n",
              "    <tr>\n",
              "      <th>11507</th>\n",
              "      <td>27-06-17</td>\n",
              "      <td>97</td>\n",
              "      <td>Shirov, Alexei</td>\n",
              "      <td>g</td>\n",
              "      <td>LAT</td>\n",
              "      <td>2656</td>\n",
              "      <td>9</td>\n",
              "      <td>1972</td>\n",
              "    </tr>\n",
              "    <tr>\n",
              "      <th>11508</th>\n",
              "      <td>27-06-17</td>\n",
              "      <td>98</td>\n",
              "      <td>Granda Zuniga, Julio E</td>\n",
              "      <td>g</td>\n",
              "      <td>PER</td>\n",
              "      <td>2656</td>\n",
              "      <td>4</td>\n",
              "      <td>1967</td>\n",
              "    </tr>\n",
              "    <tr>\n",
              "      <th>11509</th>\n",
              "      <td>27-06-17</td>\n",
              "      <td>99</td>\n",
              "      <td>Robson, Ray</td>\n",
              "      <td>g</td>\n",
              "      <td>USA</td>\n",
              "      <td>2656</td>\n",
              "      <td>0</td>\n",
              "      <td>1994</td>\n",
              "    </tr>\n",
              "    <tr>\n",
              "      <th>11510</th>\n",
              "      <td>27-06-17</td>\n",
              "      <td>100</td>\n",
              "      <td>Grandelius, Nils</td>\n",
              "      <td>g</td>\n",
              "      <td>SWE</td>\n",
              "      <td>2655</td>\n",
              "      <td>10</td>\n",
              "      <td>1993</td>\n",
              "    </tr>\n",
              "  </tbody>\n",
              "</table>\n",
              "</div>"
            ],
            "text/plain": [
              "      ranking_date  rank                    name  ... rating games  birth_year\n",
              "11506     27-06-17    96          Safarli, Eltaj  ...   2656     9        1992\n",
              "11507     27-06-17    97          Shirov, Alexei  ...   2656     9        1972\n",
              "11508     27-06-17    98  Granda Zuniga, Julio E  ...   2656     4        1967\n",
              "11509     27-06-17    99             Robson, Ray  ...   2656     0        1994\n",
              "11510     27-06-17   100        Grandelius, Nils  ...   2655    10        1993\n",
              "\n",
              "[5 rows x 8 columns]"
            ]
          },
          "metadata": {
            "tags": []
          },
          "execution_count": 7
        }
      ]
    },
    {
      "cell_type": "code",
      "metadata": {
        "id": "lTJIWZz6qYNU",
        "colab_type": "code",
        "colab": {
          "base_uri": "https://localhost:8080/",
          "height": 195
        },
        "outputId": "c5e62b08-c4e3-4da7-eada-350ecad83094"
      },
      "source": [
        "data[['rank','rating']].tail()"
      ],
      "execution_count": 8,
      "outputs": [
        {
          "output_type": "execute_result",
          "data": {
            "text/html": [
              "<div>\n",
              "<style scoped>\n",
              "    .dataframe tbody tr th:only-of-type {\n",
              "        vertical-align: middle;\n",
              "    }\n",
              "\n",
              "    .dataframe tbody tr th {\n",
              "        vertical-align: top;\n",
              "    }\n",
              "\n",
              "    .dataframe thead th {\n",
              "        text-align: right;\n",
              "    }\n",
              "</style>\n",
              "<table border=\"1\" class=\"dataframe\">\n",
              "  <thead>\n",
              "    <tr style=\"text-align: right;\">\n",
              "      <th></th>\n",
              "      <th>rank</th>\n",
              "      <th>rating</th>\n",
              "    </tr>\n",
              "  </thead>\n",
              "  <tbody>\n",
              "    <tr>\n",
              "      <th>11506</th>\n",
              "      <td>96</td>\n",
              "      <td>2656</td>\n",
              "    </tr>\n",
              "    <tr>\n",
              "      <th>11507</th>\n",
              "      <td>97</td>\n",
              "      <td>2656</td>\n",
              "    </tr>\n",
              "    <tr>\n",
              "      <th>11508</th>\n",
              "      <td>98</td>\n",
              "      <td>2656</td>\n",
              "    </tr>\n",
              "    <tr>\n",
              "      <th>11509</th>\n",
              "      <td>99</td>\n",
              "      <td>2656</td>\n",
              "    </tr>\n",
              "    <tr>\n",
              "      <th>11510</th>\n",
              "      <td>100</td>\n",
              "      <td>2655</td>\n",
              "    </tr>\n",
              "  </tbody>\n",
              "</table>\n",
              "</div>"
            ],
            "text/plain": [
              "       rank  rating\n",
              "11506    96    2656\n",
              "11507    97    2656\n",
              "11508    98    2656\n",
              "11509    99    2656\n",
              "11510   100    2655"
            ]
          },
          "metadata": {
            "tags": []
          },
          "execution_count": 8
        }
      ]
    },
    {
      "cell_type": "code",
      "metadata": {
        "id": "NAeOaBv-qg4j",
        "colab_type": "code",
        "colab": {
          "base_uri": "https://localhost:8080/",
          "height": 67
        },
        "outputId": "3c8d8d5b-cdc7-4ef5-ffba-605dc8ecbce8"
      },
      "source": [
        "data.columns"
      ],
      "execution_count": 9,
      "outputs": [
        {
          "output_type": "execute_result",
          "data": {
            "text/plain": [
              "Index(['ranking_date', 'rank', 'name', 'title', 'country', 'rating', 'games',\n",
              "       'birth_year'],\n",
              "      dtype='object')"
            ]
          },
          "metadata": {
            "tags": []
          },
          "execution_count": 9
        }
      ]
    },
    {
      "cell_type": "code",
      "metadata": {
        "id": "Nb2Q_t27qqD1",
        "colab_type": "code",
        "colab": {
          "base_uri": "https://localhost:8080/",
          "height": 34
        },
        "outputId": "afe97abe-26d6-4311-a1a6-8d1b19c598f9"
      },
      "source": [
        "data.shape"
      ],
      "execution_count": 12,
      "outputs": [
        {
          "output_type": "execute_result",
          "data": {
            "text/plain": [
              "(11511, 8)"
            ]
          },
          "metadata": {
            "tags": []
          },
          "execution_count": 12
        }
      ]
    },
    {
      "cell_type": "code",
      "metadata": {
        "id": "3rK7za-4qw_E",
        "colab_type": "code",
        "colab": {
          "base_uri": "https://localhost:8080/",
          "height": 34
        },
        "outputId": "85abf644-637c-46ad-b88c-e635c81a7973"
      },
      "source": [
        "data.size"
      ],
      "execution_count": 13,
      "outputs": [
        {
          "output_type": "execute_result",
          "data": {
            "text/plain": [
              "92088"
            ]
          },
          "metadata": {
            "tags": []
          },
          "execution_count": 13
        }
      ]
    },
    {
      "cell_type": "code",
      "metadata": {
        "id": "5pwcRQDDq1JV",
        "colab_type": "code",
        "colab": {
          "base_uri": "https://localhost:8080/",
          "height": 402
        },
        "outputId": "879984bc-9d99-4a4a-ef0f-07a76fb56c4e"
      },
      "source": [
        "data.isnull()"
      ],
      "execution_count": 14,
      "outputs": [
        {
          "output_type": "execute_result",
          "data": {
            "text/html": [
              "<div>\n",
              "<style scoped>\n",
              "    .dataframe tbody tr th:only-of-type {\n",
              "        vertical-align: middle;\n",
              "    }\n",
              "\n",
              "    .dataframe tbody tr th {\n",
              "        vertical-align: top;\n",
              "    }\n",
              "\n",
              "    .dataframe thead th {\n",
              "        text-align: right;\n",
              "    }\n",
              "</style>\n",
              "<table border=\"1\" class=\"dataframe\">\n",
              "  <thead>\n",
              "    <tr style=\"text-align: right;\">\n",
              "      <th></th>\n",
              "      <th>ranking_date</th>\n",
              "      <th>rank</th>\n",
              "      <th>name</th>\n",
              "      <th>title</th>\n",
              "      <th>country</th>\n",
              "      <th>rating</th>\n",
              "      <th>games</th>\n",
              "      <th>birth_year</th>\n",
              "    </tr>\n",
              "  </thead>\n",
              "  <tbody>\n",
              "    <tr>\n",
              "      <th>0</th>\n",
              "      <td>False</td>\n",
              "      <td>False</td>\n",
              "      <td>False</td>\n",
              "      <td>False</td>\n",
              "      <td>False</td>\n",
              "      <td>False</td>\n",
              "      <td>False</td>\n",
              "      <td>False</td>\n",
              "    </tr>\n",
              "    <tr>\n",
              "      <th>1</th>\n",
              "      <td>False</td>\n",
              "      <td>False</td>\n",
              "      <td>False</td>\n",
              "      <td>False</td>\n",
              "      <td>False</td>\n",
              "      <td>False</td>\n",
              "      <td>False</td>\n",
              "      <td>False</td>\n",
              "    </tr>\n",
              "    <tr>\n",
              "      <th>2</th>\n",
              "      <td>False</td>\n",
              "      <td>False</td>\n",
              "      <td>False</td>\n",
              "      <td>False</td>\n",
              "      <td>False</td>\n",
              "      <td>False</td>\n",
              "      <td>False</td>\n",
              "      <td>False</td>\n",
              "    </tr>\n",
              "    <tr>\n",
              "      <th>3</th>\n",
              "      <td>False</td>\n",
              "      <td>False</td>\n",
              "      <td>False</td>\n",
              "      <td>False</td>\n",
              "      <td>False</td>\n",
              "      <td>False</td>\n",
              "      <td>False</td>\n",
              "      <td>False</td>\n",
              "    </tr>\n",
              "    <tr>\n",
              "      <th>4</th>\n",
              "      <td>False</td>\n",
              "      <td>False</td>\n",
              "      <td>False</td>\n",
              "      <td>False</td>\n",
              "      <td>False</td>\n",
              "      <td>False</td>\n",
              "      <td>False</td>\n",
              "      <td>False</td>\n",
              "    </tr>\n",
              "    <tr>\n",
              "      <th>...</th>\n",
              "      <td>...</td>\n",
              "      <td>...</td>\n",
              "      <td>...</td>\n",
              "      <td>...</td>\n",
              "      <td>...</td>\n",
              "      <td>...</td>\n",
              "      <td>...</td>\n",
              "      <td>...</td>\n",
              "    </tr>\n",
              "    <tr>\n",
              "      <th>11506</th>\n",
              "      <td>False</td>\n",
              "      <td>False</td>\n",
              "      <td>False</td>\n",
              "      <td>False</td>\n",
              "      <td>False</td>\n",
              "      <td>False</td>\n",
              "      <td>False</td>\n",
              "      <td>False</td>\n",
              "    </tr>\n",
              "    <tr>\n",
              "      <th>11507</th>\n",
              "      <td>False</td>\n",
              "      <td>False</td>\n",
              "      <td>False</td>\n",
              "      <td>False</td>\n",
              "      <td>False</td>\n",
              "      <td>False</td>\n",
              "      <td>False</td>\n",
              "      <td>False</td>\n",
              "    </tr>\n",
              "    <tr>\n",
              "      <th>11508</th>\n",
              "      <td>False</td>\n",
              "      <td>False</td>\n",
              "      <td>False</td>\n",
              "      <td>False</td>\n",
              "      <td>False</td>\n",
              "      <td>False</td>\n",
              "      <td>False</td>\n",
              "      <td>False</td>\n",
              "    </tr>\n",
              "    <tr>\n",
              "      <th>11509</th>\n",
              "      <td>False</td>\n",
              "      <td>False</td>\n",
              "      <td>False</td>\n",
              "      <td>False</td>\n",
              "      <td>False</td>\n",
              "      <td>False</td>\n",
              "      <td>False</td>\n",
              "      <td>False</td>\n",
              "    </tr>\n",
              "    <tr>\n",
              "      <th>11510</th>\n",
              "      <td>False</td>\n",
              "      <td>False</td>\n",
              "      <td>False</td>\n",
              "      <td>False</td>\n",
              "      <td>False</td>\n",
              "      <td>False</td>\n",
              "      <td>False</td>\n",
              "      <td>False</td>\n",
              "    </tr>\n",
              "  </tbody>\n",
              "</table>\n",
              "<p>11511 rows × 8 columns</p>\n",
              "</div>"
            ],
            "text/plain": [
              "       ranking_date   rank   name  title  country  rating  games  birth_year\n",
              "0             False  False  False  False    False   False  False       False\n",
              "1             False  False  False  False    False   False  False       False\n",
              "2             False  False  False  False    False   False  False       False\n",
              "3             False  False  False  False    False   False  False       False\n",
              "4             False  False  False  False    False   False  False       False\n",
              "...             ...    ...    ...    ...      ...     ...    ...         ...\n",
              "11506         False  False  False  False    False   False  False       False\n",
              "11507         False  False  False  False    False   False  False       False\n",
              "11508         False  False  False  False    False   False  False       False\n",
              "11509         False  False  False  False    False   False  False       False\n",
              "11510         False  False  False  False    False   False  False       False\n",
              "\n",
              "[11511 rows x 8 columns]"
            ]
          },
          "metadata": {
            "tags": []
          },
          "execution_count": 14
        }
      ]
    },
    {
      "cell_type": "code",
      "metadata": {
        "id": "wVoaEkxmq9Ii",
        "colab_type": "code",
        "colab": {
          "base_uri": "https://localhost:8080/",
          "height": 34
        },
        "outputId": "666650bb-241b-4095-fc22-a1c816f1d522"
      },
      "source": [
        "data.isnull().values.any()"
      ],
      "execution_count": 16,
      "outputs": [
        {
          "output_type": "execute_result",
          "data": {
            "text/plain": [
              "False"
            ]
          },
          "metadata": {
            "tags": []
          },
          "execution_count": 16
        }
      ]
    },
    {
      "cell_type": "code",
      "metadata": {
        "id": "nZuXPYPwrDLa",
        "colab_type": "code",
        "colab": {
          "base_uri": "https://localhost:8080/",
          "height": 402
        },
        "outputId": "e643004c-4590-4bfd-fb33-fa3316c75a8d"
      },
      "source": [
        "data.fillna(\"nan\")"
      ],
      "execution_count": 17,
      "outputs": [
        {
          "output_type": "execute_result",
          "data": {
            "text/html": [
              "<div>\n",
              "<style scoped>\n",
              "    .dataframe tbody tr th:only-of-type {\n",
              "        vertical-align: middle;\n",
              "    }\n",
              "\n",
              "    .dataframe tbody tr th {\n",
              "        vertical-align: top;\n",
              "    }\n",
              "\n",
              "    .dataframe thead th {\n",
              "        text-align: right;\n",
              "    }\n",
              "</style>\n",
              "<table border=\"1\" class=\"dataframe\">\n",
              "  <thead>\n",
              "    <tr style=\"text-align: right;\">\n",
              "      <th></th>\n",
              "      <th>ranking_date</th>\n",
              "      <th>rank</th>\n",
              "      <th>name</th>\n",
              "      <th>title</th>\n",
              "      <th>country</th>\n",
              "      <th>rating</th>\n",
              "      <th>games</th>\n",
              "      <th>birth_year</th>\n",
              "    </tr>\n",
              "  </thead>\n",
              "  <tbody>\n",
              "    <tr>\n",
              "      <th>0</th>\n",
              "      <td>27-07-00</td>\n",
              "      <td>1</td>\n",
              "      <td>Kasparov, Garry</td>\n",
              "      <td>g</td>\n",
              "      <td>RUS</td>\n",
              "      <td>2849</td>\n",
              "      <td>35</td>\n",
              "      <td>1963</td>\n",
              "    </tr>\n",
              "    <tr>\n",
              "      <th>1</th>\n",
              "      <td>27-07-00</td>\n",
              "      <td>2</td>\n",
              "      <td>Kramnik, Vladimir</td>\n",
              "      <td>g</td>\n",
              "      <td>RUS</td>\n",
              "      <td>2770</td>\n",
              "      <td>23</td>\n",
              "      <td>1975</td>\n",
              "    </tr>\n",
              "    <tr>\n",
              "      <th>2</th>\n",
              "      <td>27-07-00</td>\n",
              "      <td>3</td>\n",
              "      <td>Anand, Viswanathan</td>\n",
              "      <td>g</td>\n",
              "      <td>IND</td>\n",
              "      <td>2762</td>\n",
              "      <td>23</td>\n",
              "      <td>1969</td>\n",
              "    </tr>\n",
              "    <tr>\n",
              "      <th>3</th>\n",
              "      <td>27-07-00</td>\n",
              "      <td>4</td>\n",
              "      <td>Morozevich, Alexander</td>\n",
              "      <td>g</td>\n",
              "      <td>RUS</td>\n",
              "      <td>2756</td>\n",
              "      <td>28</td>\n",
              "      <td>1977</td>\n",
              "    </tr>\n",
              "    <tr>\n",
              "      <th>4</th>\n",
              "      <td>27-07-00</td>\n",
              "      <td>5</td>\n",
              "      <td>Adams, Michael</td>\n",
              "      <td>g</td>\n",
              "      <td>ENG</td>\n",
              "      <td>2755</td>\n",
              "      <td>38</td>\n",
              "      <td>1971</td>\n",
              "    </tr>\n",
              "    <tr>\n",
              "      <th>...</th>\n",
              "      <td>...</td>\n",
              "      <td>...</td>\n",
              "      <td>...</td>\n",
              "      <td>...</td>\n",
              "      <td>...</td>\n",
              "      <td>...</td>\n",
              "      <td>...</td>\n",
              "      <td>...</td>\n",
              "    </tr>\n",
              "    <tr>\n",
              "      <th>11506</th>\n",
              "      <td>27-06-17</td>\n",
              "      <td>96</td>\n",
              "      <td>Safarli, Eltaj</td>\n",
              "      <td>g</td>\n",
              "      <td>AZE</td>\n",
              "      <td>2656</td>\n",
              "      <td>9</td>\n",
              "      <td>1992</td>\n",
              "    </tr>\n",
              "    <tr>\n",
              "      <th>11507</th>\n",
              "      <td>27-06-17</td>\n",
              "      <td>97</td>\n",
              "      <td>Shirov, Alexei</td>\n",
              "      <td>g</td>\n",
              "      <td>LAT</td>\n",
              "      <td>2656</td>\n",
              "      <td>9</td>\n",
              "      <td>1972</td>\n",
              "    </tr>\n",
              "    <tr>\n",
              "      <th>11508</th>\n",
              "      <td>27-06-17</td>\n",
              "      <td>98</td>\n",
              "      <td>Granda Zuniga, Julio E</td>\n",
              "      <td>g</td>\n",
              "      <td>PER</td>\n",
              "      <td>2656</td>\n",
              "      <td>4</td>\n",
              "      <td>1967</td>\n",
              "    </tr>\n",
              "    <tr>\n",
              "      <th>11509</th>\n",
              "      <td>27-06-17</td>\n",
              "      <td>99</td>\n",
              "      <td>Robson, Ray</td>\n",
              "      <td>g</td>\n",
              "      <td>USA</td>\n",
              "      <td>2656</td>\n",
              "      <td>0</td>\n",
              "      <td>1994</td>\n",
              "    </tr>\n",
              "    <tr>\n",
              "      <th>11510</th>\n",
              "      <td>27-06-17</td>\n",
              "      <td>100</td>\n",
              "      <td>Grandelius, Nils</td>\n",
              "      <td>g</td>\n",
              "      <td>SWE</td>\n",
              "      <td>2655</td>\n",
              "      <td>10</td>\n",
              "      <td>1993</td>\n",
              "    </tr>\n",
              "  </tbody>\n",
              "</table>\n",
              "<p>11511 rows × 8 columns</p>\n",
              "</div>"
            ],
            "text/plain": [
              "      ranking_date  rank                    name  ... rating games  birth_year\n",
              "0         27-07-00     1         Kasparov, Garry  ...   2849    35        1963\n",
              "1         27-07-00     2       Kramnik, Vladimir  ...   2770    23        1975\n",
              "2         27-07-00     3      Anand, Viswanathan  ...   2762    23        1969\n",
              "3         27-07-00     4   Morozevich, Alexander  ...   2756    28        1977\n",
              "4         27-07-00     5          Adams, Michael  ...   2755    38        1971\n",
              "...            ...   ...                     ...  ...    ...   ...         ...\n",
              "11506     27-06-17    96          Safarli, Eltaj  ...   2656     9        1992\n",
              "11507     27-06-17    97          Shirov, Alexei  ...   2656     9        1972\n",
              "11508     27-06-17    98  Granda Zuniga, Julio E  ...   2656     4        1967\n",
              "11509     27-06-17    99             Robson, Ray  ...   2656     0        1994\n",
              "11510     27-06-17   100        Grandelius, Nils  ...   2655    10        1993\n",
              "\n",
              "[11511 rows x 8 columns]"
            ]
          },
          "metadata": {
            "tags": []
          },
          "execution_count": 17
        }
      ]
    },
    {
      "cell_type": "code",
      "metadata": {
        "id": "tzAI8K4SrWZu",
        "colab_type": "code",
        "colab": {
          "base_uri": "https://localhost:8080/",
          "height": 402
        },
        "outputId": "b5dbc63c-4e48-4b5f-d573-8a032c0aa618"
      },
      "source": [
        "data.dropna()"
      ],
      "execution_count": 19,
      "outputs": [
        {
          "output_type": "execute_result",
          "data": {
            "text/html": [
              "<div>\n",
              "<style scoped>\n",
              "    .dataframe tbody tr th:only-of-type {\n",
              "        vertical-align: middle;\n",
              "    }\n",
              "\n",
              "    .dataframe tbody tr th {\n",
              "        vertical-align: top;\n",
              "    }\n",
              "\n",
              "    .dataframe thead th {\n",
              "        text-align: right;\n",
              "    }\n",
              "</style>\n",
              "<table border=\"1\" class=\"dataframe\">\n",
              "  <thead>\n",
              "    <tr style=\"text-align: right;\">\n",
              "      <th></th>\n",
              "      <th>ranking_date</th>\n",
              "      <th>rank</th>\n",
              "      <th>name</th>\n",
              "      <th>title</th>\n",
              "      <th>country</th>\n",
              "      <th>rating</th>\n",
              "      <th>games</th>\n",
              "      <th>birth_year</th>\n",
              "    </tr>\n",
              "  </thead>\n",
              "  <tbody>\n",
              "    <tr>\n",
              "      <th>0</th>\n",
              "      <td>27-07-00</td>\n",
              "      <td>1</td>\n",
              "      <td>Kasparov, Garry</td>\n",
              "      <td>g</td>\n",
              "      <td>RUS</td>\n",
              "      <td>2849</td>\n",
              "      <td>35</td>\n",
              "      <td>1963</td>\n",
              "    </tr>\n",
              "    <tr>\n",
              "      <th>1</th>\n",
              "      <td>27-07-00</td>\n",
              "      <td>2</td>\n",
              "      <td>Kramnik, Vladimir</td>\n",
              "      <td>g</td>\n",
              "      <td>RUS</td>\n",
              "      <td>2770</td>\n",
              "      <td>23</td>\n",
              "      <td>1975</td>\n",
              "    </tr>\n",
              "    <tr>\n",
              "      <th>2</th>\n",
              "      <td>27-07-00</td>\n",
              "      <td>3</td>\n",
              "      <td>Anand, Viswanathan</td>\n",
              "      <td>g</td>\n",
              "      <td>IND</td>\n",
              "      <td>2762</td>\n",
              "      <td>23</td>\n",
              "      <td>1969</td>\n",
              "    </tr>\n",
              "    <tr>\n",
              "      <th>3</th>\n",
              "      <td>27-07-00</td>\n",
              "      <td>4</td>\n",
              "      <td>Morozevich, Alexander</td>\n",
              "      <td>g</td>\n",
              "      <td>RUS</td>\n",
              "      <td>2756</td>\n",
              "      <td>28</td>\n",
              "      <td>1977</td>\n",
              "    </tr>\n",
              "    <tr>\n",
              "      <th>4</th>\n",
              "      <td>27-07-00</td>\n",
              "      <td>5</td>\n",
              "      <td>Adams, Michael</td>\n",
              "      <td>g</td>\n",
              "      <td>ENG</td>\n",
              "      <td>2755</td>\n",
              "      <td>38</td>\n",
              "      <td>1971</td>\n",
              "    </tr>\n",
              "    <tr>\n",
              "      <th>...</th>\n",
              "      <td>...</td>\n",
              "      <td>...</td>\n",
              "      <td>...</td>\n",
              "      <td>...</td>\n",
              "      <td>...</td>\n",
              "      <td>...</td>\n",
              "      <td>...</td>\n",
              "      <td>...</td>\n",
              "    </tr>\n",
              "    <tr>\n",
              "      <th>11506</th>\n",
              "      <td>27-06-17</td>\n",
              "      <td>96</td>\n",
              "      <td>Safarli, Eltaj</td>\n",
              "      <td>g</td>\n",
              "      <td>AZE</td>\n",
              "      <td>2656</td>\n",
              "      <td>9</td>\n",
              "      <td>1992</td>\n",
              "    </tr>\n",
              "    <tr>\n",
              "      <th>11507</th>\n",
              "      <td>27-06-17</td>\n",
              "      <td>97</td>\n",
              "      <td>Shirov, Alexei</td>\n",
              "      <td>g</td>\n",
              "      <td>LAT</td>\n",
              "      <td>2656</td>\n",
              "      <td>9</td>\n",
              "      <td>1972</td>\n",
              "    </tr>\n",
              "    <tr>\n",
              "      <th>11508</th>\n",
              "      <td>27-06-17</td>\n",
              "      <td>98</td>\n",
              "      <td>Granda Zuniga, Julio E</td>\n",
              "      <td>g</td>\n",
              "      <td>PER</td>\n",
              "      <td>2656</td>\n",
              "      <td>4</td>\n",
              "      <td>1967</td>\n",
              "    </tr>\n",
              "    <tr>\n",
              "      <th>11509</th>\n",
              "      <td>27-06-17</td>\n",
              "      <td>99</td>\n",
              "      <td>Robson, Ray</td>\n",
              "      <td>g</td>\n",
              "      <td>USA</td>\n",
              "      <td>2656</td>\n",
              "      <td>0</td>\n",
              "      <td>1994</td>\n",
              "    </tr>\n",
              "    <tr>\n",
              "      <th>11510</th>\n",
              "      <td>27-06-17</td>\n",
              "      <td>100</td>\n",
              "      <td>Grandelius, Nils</td>\n",
              "      <td>g</td>\n",
              "      <td>SWE</td>\n",
              "      <td>2655</td>\n",
              "      <td>10</td>\n",
              "      <td>1993</td>\n",
              "    </tr>\n",
              "  </tbody>\n",
              "</table>\n",
              "<p>11511 rows × 8 columns</p>\n",
              "</div>"
            ],
            "text/plain": [
              "      ranking_date  rank                    name  ... rating games  birth_year\n",
              "0         27-07-00     1         Kasparov, Garry  ...   2849    35        1963\n",
              "1         27-07-00     2       Kramnik, Vladimir  ...   2770    23        1975\n",
              "2         27-07-00     3      Anand, Viswanathan  ...   2762    23        1969\n",
              "3         27-07-00     4   Morozevich, Alexander  ...   2756    28        1977\n",
              "4         27-07-00     5          Adams, Michael  ...   2755    38        1971\n",
              "...            ...   ...                     ...  ...    ...   ...         ...\n",
              "11506     27-06-17    96          Safarli, Eltaj  ...   2656     9        1992\n",
              "11507     27-06-17    97          Shirov, Alexei  ...   2656     9        1972\n",
              "11508     27-06-17    98  Granda Zuniga, Julio E  ...   2656     4        1967\n",
              "11509     27-06-17    99             Robson, Ray  ...   2656     0        1994\n",
              "11510     27-06-17   100        Grandelius, Nils  ...   2655    10        1993\n",
              "\n",
              "[11511 rows x 8 columns]"
            ]
          },
          "metadata": {
            "tags": []
          },
          "execution_count": 19
        }
      ]
    },
    {
      "cell_type": "code",
      "metadata": {
        "id": "yORiFJfhrd6o",
        "colab_type": "code",
        "colab": {}
      },
      "source": [
        "x=np.array(data['rating'])\n",
        "y=np.array(data['rank'])"
      ],
      "execution_count": 20,
      "outputs": []
    },
    {
      "cell_type": "code",
      "metadata": {
        "id": "LmbGAYzWrxsa",
        "colab_type": "code",
        "colab": {}
      },
      "source": [
        "x_train,x_test,y_train,y_test=train_test_split(x,y,test_size=0.2,random_state=0)"
      ],
      "execution_count": 22,
      "outputs": []
    },
    {
      "cell_type": "code",
      "metadata": {
        "id": "u6QeiIv9sE5o",
        "colab_type": "code",
        "colab": {
          "base_uri": "https://localhost:8080/",
          "height": 284
        },
        "outputId": "b2a455ce-020e-4561-ef52-20463d41cefa"
      },
      "source": [
        "plt.scatter(data['rating'],data['rank'])\n",
        "plt.xlabel('rating',fontsize=15,color='blue')\n",
        "plt.ylabel('rank',fontsize=15,color='yellow')\n",
        "plt.show()"
      ],
      "execution_count": 27,
      "outputs": [
        {
          "output_type": "display_data",
          "data": {
            "image/png": "[encoded data removed]",
            "text/plain": [
              "<Figure size 432x288 with 1 Axes>"
            ]
          },
          "metadata": {
            "tags": [],
            "needs_background": "light"
          }
        }
      ]
    },
    {
      "cell_type": "code",
      "metadata": {
        "id": "MKAZkGvHtJYS",
        "colab_type": "code",
        "colab": {}
      },
      "source": [
        "x_train=x_train.reshape(-1,1)\n",
        "x_test=x_test.reshape(-1,1)"
      ],
      "execution_count": 28,
      "outputs": []
    },
    {
      "cell_type": "code",
      "metadata": {
        "id": "9zjIlMVJt4Ek",
        "colab_type": "code",
        "colab": {
          "base_uri": "https://localhost:8080/",
          "height": 34
        },
        "outputId": "20271a2a-428e-46ad-cdf8-ba8d9b6820d3"
      },
      "source": [
        "regr=LinearRegression()\n",
        "regr.fit(x_train,y_train)"
      ],
      "execution_count": 32,
      "outputs": [
        {
          "output_type": "execute_result",
          "data": {
            "text/plain": [
              "LinearRegression(copy_X=True, fit_intercept=True, n_jobs=None, normalize=False)"
            ]
          },
          "metadata": {
            "tags": []
          },
          "execution_count": 32
        }
      ]
    },
    {
      "cell_type": "code",
      "metadata": {
        "id": "6SKAUQthuY9S",
        "colab_type": "code",
        "colab": {
          "base_uri": "https://localhost:8080/",
          "height": 34
        },
        "outputId": "615e55de-8533-42f5-e9f2-352bb173a0c9"
      },
      "source": [
        "regr.coef_"
      ],
      "execution_count": 33,
      "outputs": [
        {
          "output_type": "execute_result",
          "data": {
            "text/plain": [
              "array([-0.51817304])"
            ]
          },
          "metadata": {
            "tags": []
          },
          "execution_count": 33
        }
      ]
    },
    {
      "cell_type": "code",
      "metadata": {
        "id": "Y8X1Nqwhuqca",
        "colab_type": "code",
        "colab": {
          "base_uri": "https://localhost:8080/",
          "height": 34
        },
        "outputId": "11d030d2-f516-4d2c-8cab-69d2d8104211"
      },
      "source": [
        "regr.intercept_"
      ],
      "execution_count": 34,
      "outputs": [
        {
          "output_type": "execute_result",
          "data": {
            "text/plain": [
              "1443.9545154999398"
            ]
          },
          "metadata": {
            "tags": []
          },
          "execution_count": 34
        }
      ]
    },
    {
      "cell_type": "code",
      "metadata": {
        "id": "UWtjSt6ivSEN",
        "colab_type": "code",
        "colab": {
          "base_uri": "https://localhost:8080/",
          "height": 284
        },
        "outputId": "f2627486-e895-44c6-c537-b0c4c855b149"
      },
      "source": [
        "plt.scatter(x_train,y_train,color='yellow')\n",
        "plt.plot(x_train,regr.predict(x_train),color='blue')\n",
        "plt.xlabel('rating',fontsize=16,color='green')\n",
        "plt.ylabel('rating',fontsize=16,color='pink')\n",
        "plt.show()"
      ],
      "execution_count": 37,
      "outputs": [
        {
          "output_type": "display_data",
          "data": {
            "image/png": "[encoded data removed]",
            "text/plain": [
              "<Figure size 432x288 with 1 Axes>"
            ]
          },
          "metadata": {
            "tags": [],
            "needs_background": "light"
          }
        }
      ]
    },
    {
      "cell_type": "code",
      "metadata": {
        "id": "OWuakxGHwF5Y",
        "colab_type": "code",
        "colab": {
          "base_uri": "https://localhost:8080/",
          "height": 34
        },
        "outputId": "50651018-f74c-4e72-8d09-76ca06974cd6"
      },
      "source": [
        "regr.predict(np.array([[2762]]))"
      ],
      "execution_count": 48,
      "outputs": [
        {
          "output_type": "execute_result",
          "data": {
            "text/plain": [
              "array([12.76056969])"
            ]
          },
          "metadata": {
            "tags": []
          },
          "execution_count": 48
        }
      ]
    },
    {
      "cell_type": "code",
      "metadata": {
        "id": "0cGNKNIiwg-s",
        "colab_type": "code",
        "colab": {
          "base_uri": "https://localhost:8080/",
          "height": 34
        },
        "outputId": "bddebf99-8bd5-46a1-c888-bbbaf43f1523"
      },
      "source": [
        "regr.score(x_train,y_train) # training error"
      ],
      "execution_count": 41,
      "outputs": [
        {
          "output_type": "execute_result",
          "data": {
            "text/plain": [
              "0.6987147279565968"
            ]
          },
          "metadata": {
            "tags": []
          },
          "execution_count": 41
        }
      ]
    },
    {
      "cell_type": "code",
      "metadata": {
        "id": "pNLuOr7ZwxS0",
        "colab_type": "code",
        "colab": {
          "base_uri": "https://localhost:8080/",
          "height": 284
        },
        "outputId": "9f341d59-520c-4652-a214-15f1af85eaab"
      },
      "source": [
        "plt.scatter(x_test,y_test,color='yellow')\n",
        "plt.plot(x_test,regr.predict(x_test),color='blue')\n",
        "plt.xlabel('rating',fontsize=16,color='green')\n",
        "plt.ylabel('rating',fontsize=16,color='pink')\n",
        "plt.show()"
      ],
      "execution_count": 42,
      "outputs": [
        {
          "output_type": "display_data",
          "data": {
            "image/png": "[encoded data removed]",
            "text/plain": [
              "<Figure size 432x288 with 1 Axes>"
            ]
          },
          "metadata": {
            "tags": [],
            "needs_background": "light"
          }
        }
      ]
    },
    {
      "cell_type": "code",
      "metadata": {
        "id": "5HxVjFd-xkiP",
        "colab_type": "code",
        "colab": {
          "base_uri": "https://localhost:8080/",
          "height": 34
        },
        "outputId": "902ada37-ef75-4159-c9ef-973ddcd8c32c"
      },
      "source": [
        "regr.score(x_test,y_test) # testing error"
      ],
      "execution_count": 43,
      "outputs": [
        {
          "output_type": "execute_result",
          "data": {
            "text/plain": [
              "0.6893475907979905"
            ]
          },
          "metadata": {
            "tags": []
          },
          "execution_count": 43
        }
      ]
    },
    {
      "cell_type": "code",
      "metadata": {
        "id": "oIpbfEzFxqrn",
        "colab_type": "code",
        "colab": {
          "base_uri": "https://localhost:8080/",
          "height": 34
        },
        "outputId": "4662041a-883a-4def-d009-2d530e5f5e54"
      },
      "source": [
        "regr.coef_"
      ],
      "execution_count": 44,
      "outputs": [
        {
          "output_type": "execute_result",
          "data": {
            "text/plain": [
              "array([-0.51817304])"
            ]
          },
          "metadata": {
            "tags": []
          },
          "execution_count": 44
        }
      ]
    },
    {
      "cell_type": "code",
      "metadata": {
        "id": "3XjCHt4Vxuc7",
        "colab_type": "code",
        "colab": {
          "base_uri": "https://localhost:8080/",
          "height": 34
        },
        "outputId": "d7464795-dc7b-4163-bdf5-7504488adf78"
      },
      "source": [
        "regr.predict(np.array([[2849]]))"
      ],
      "execution_count": 46,
      "outputs": [
        {
          "output_type": "execute_result",
          "data": {
            "text/plain": [
              "array([-32.32048509])"
            ]
          },
          "metadata": {
            "tags": []
          },
          "execution_count": 46
        }
      ]
    },
    {
      "cell_type": "code",
      "metadata": {
        "id": "pNHDCWoCyCQs",
        "colab_type": "code",
        "colab": {}
      },
      "source": [
        ""
      ],
      "execution_count": null,
      "outputs": []
    }
  ]
}